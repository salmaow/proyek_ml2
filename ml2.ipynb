{
  "nbformat": 4,
  "nbformat_minor": 0,
  "metadata": {
    "colab": {
      "provenance": []
    },
    "kernelspec": {
      "name": "python3",
      "display_name": "Python 3"
    },
    "language_info": {
      "name": "python"
    }
  },
  "cells": [
    {
      "cell_type": "markdown",
      "source": [
        "# ML Terapan - Salma Oktarina\n",
        "\n",
        "# Sistem Rekomendasi Buku\n",
        "Sumber: https://www.kaggle.com/datasets/valakhorasani/best-books-of-the-decade-2020s"
      ],
      "metadata": {
        "id": "CNcKrduKDEbR"
      }
    },
    {
      "cell_type": "markdown",
      "source": [
        "## Import Libraries"
      ],
      "metadata": {
        "id": "eZH8oU9VDEPK"
      }
    },
    {
      "cell_type": "code",
      "source": [
        "# Install library yang diperlukan\n",
        "!pip install pandas numpy==1.24.4 scikit-learn scikit-surprise matplotlib seaborn pandas"
      ],
      "metadata": {
        "colab": {
          "base_uri": "https://localhost:8080/"
        },
        "id": "wfpFc4zQjn1I",
        "outputId": "aa215b74-c301-4624-8b0b-72768d5b352f"
      },
      "execution_count": 2,
      "outputs": [
        {
          "output_type": "stream",
          "name": "stdout",
          "text": [
            "Requirement already satisfied: pandas in /usr/local/lib/python3.11/dist-packages (2.2.2)\n",
            "Requirement already satisfied: numpy==1.24.4 in /usr/local/lib/python3.11/dist-packages (1.24.4)\n",
            "Requirement already satisfied: scikit-learn in /usr/local/lib/python3.11/dist-packages (1.6.1)\n",
            "Requirement already satisfied: scikit-surprise in /usr/local/lib/python3.11/dist-packages (1.1.4)\n",
            "Requirement already satisfied: matplotlib in /usr/local/lib/python3.11/dist-packages (3.10.0)\n",
            "Requirement already satisfied: seaborn in /usr/local/lib/python3.11/dist-packages (0.13.2)\n",
            "Requirement already satisfied: python-dateutil>=2.8.2 in /usr/local/lib/python3.11/dist-packages (from pandas) (2.9.0.post0)\n",
            "Requirement already satisfied: pytz>=2020.1 in /usr/local/lib/python3.11/dist-packages (from pandas) (2025.2)\n",
            "Requirement already satisfied: tzdata>=2022.7 in /usr/local/lib/python3.11/dist-packages (from pandas) (2025.2)\n",
            "Requirement already satisfied: scipy>=1.6.0 in /usr/local/lib/python3.11/dist-packages (from scikit-learn) (1.15.3)\n",
            "Requirement already satisfied: joblib>=1.2.0 in /usr/local/lib/python3.11/dist-packages (from scikit-learn) (1.5.0)\n",
            "Requirement already satisfied: threadpoolctl>=3.1.0 in /usr/local/lib/python3.11/dist-packages (from scikit-learn) (3.6.0)\n",
            "Requirement already satisfied: contourpy>=1.0.1 in /usr/local/lib/python3.11/dist-packages (from matplotlib) (1.3.2)\n",
            "Requirement already satisfied: cycler>=0.10 in /usr/local/lib/python3.11/dist-packages (from matplotlib) (0.12.1)\n",
            "Requirement already satisfied: fonttools>=4.22.0 in /usr/local/lib/python3.11/dist-packages (from matplotlib) (4.58.0)\n",
            "Requirement already satisfied: kiwisolver>=1.3.1 in /usr/local/lib/python3.11/dist-packages (from matplotlib) (1.4.8)\n",
            "Requirement already satisfied: packaging>=20.0 in /usr/local/lib/python3.11/dist-packages (from matplotlib) (24.2)\n",
            "Requirement already satisfied: pillow>=8 in /usr/local/lib/python3.11/dist-packages (from matplotlib) (11.2.1)\n",
            "Requirement already satisfied: pyparsing>=2.3.1 in /usr/local/lib/python3.11/dist-packages (from matplotlib) (3.2.3)\n",
            "Requirement already satisfied: six>=1.5 in /usr/local/lib/python3.11/dist-packages (from python-dateutil>=2.8.2->pandas) (1.17.0)\n"
          ]
        }
      ]
    },
    {
      "cell_type": "code",
      "source": [
        "# Import library\n",
        "import pandas as pd\n",
        "import numpy as np\n",
        "import matplotlib.pyplot as plt\n",
        "import seaborn as sns\n",
        "from sklearn.feature_extraction.text import TfidfVectorizer\n",
        "from sklearn.metrics.pairwise import cosine_similarity\n",
        "from surprise import Reader, Dataset, SVD, KNNBasic\n",
        "from surprise.model_selection import train_test_split as surprise_train_test_split\n",
        "from surprise import accuracy\n",
        "import re"
      ],
      "metadata": {
        "id": "E2pfv5Jekttx"
      },
      "execution_count": 3,
      "outputs": []
    },
    {
      "cell_type": "markdown",
      "source": [
        "## Loading Dataset"
      ],
      "metadata": {
        "id": "L9vFgb_TDNYp"
      }
    },
    {
      "cell_type": "code",
      "source": [
        "# Mout google drive\n",
        "from google.colab import drive\n",
        "drive.mount('/content/drive')\n",
        "path = '/content/drive/MyDrive/proyek_ml2/'"
      ],
      "metadata": {
        "colab": {
          "base_uri": "https://localhost:8080/"
        },
        "id": "kopOiKJ7leKR",
        "outputId": "cdc9af2c-c921-49be-9dac-dfd78062720f"
      },
      "execution_count": 4,
      "outputs": [
        {
          "output_type": "stream",
          "name": "stdout",
          "text": [
            "Mounted at /content/drive\n"
          ]
        }
      ]
    },
    {
      "cell_type": "code",
      "source": [
        "# Data load\n",
        "books_df = pd.read_csv(path + 'best_books_2020s.csv')\n",
        "users_df = pd.read_csv(path + 'user_reviews.csv')\n",
        "\n",
        "print(\"Shape of books_df:\", books_df.shape)\n",
        "print(\"Shape of users_df:\", users_df.shape)"
      ],
      "metadata": {
        "colab": {
          "base_uri": "https://localhost:8080/"
        },
        "id": "7WnHyoHBDJZT",
        "outputId": "19d351fb-bb1a-4f65-9fb4-3cbe1050393c"
      },
      "execution_count": 5,
      "outputs": [
        {
          "output_type": "stream",
          "name": "stdout",
          "text": [
            "Shape of books_df: (2329, 6)\n",
            "Shape of users_df: (600000, 3)\n"
          ]
        }
      ]
    },
    {
      "cell_type": "markdown",
      "source": [
        "- Dataset buku terdiri dari 6 fitur dan 2.329 entri data.\n",
        "- Dataset user terdiri dari 3 fitur dan 600.000 entri data."
      ],
      "metadata": {
        "id": "R14DbHlesgws"
      }
    },
    {
      "cell_type": "markdown",
      "source": [
        "## Data Understanding"
      ],
      "metadata": {
        "id": "GCh1H170EKxi"
      }
    },
    {
      "cell_type": "code",
      "source": [
        "# Dataset buku\n",
        "print(\"Info books_df:\")\n",
        "books_df.info()\n",
        "print(\"\\nMissing values di books_df:\")\n",
        "print(books_df.isnull().sum())\n",
        "print(\"\\nDuplikasi di books_df:\")\n",
        "print(books_df.duplicated().sum())\n",
        "print(\"\\nbooks_df 5 baris pertama:\")\n",
        "print(books_df.head())"
      ],
      "metadata": {
        "id": "7bMv4CICDKkb",
        "colab": {
          "base_uri": "https://localhost:8080/"
        },
        "outputId": "1382700f-ec71-4198-cc1e-6d57f2c1de94"
      },
      "execution_count": 6,
      "outputs": [
        {
          "output_type": "stream",
          "name": "stdout",
          "text": [
            "Info books_df:\n",
            "<class 'pandas.core.frame.DataFrame'>\n",
            "RangeIndex: 2329 entries, 0 to 2328\n",
            "Data columns (total 6 columns):\n",
            " #   Column           Non-Null Count  Dtype \n",
            "---  ------           --------------  ----- \n",
            " 0   Index            2329 non-null   int64 \n",
            " 1   Book Name        2329 non-null   object\n",
            " 2   Author           2329 non-null   object\n",
            " 3   Rating           2329 non-null   object\n",
            " 4   Number of Votes  2329 non-null   object\n",
            " 5   Score            2329 non-null   int64 \n",
            "dtypes: int64(2), object(4)\n",
            "memory usage: 109.3+ KB\n",
            "\n",
            "Missing values di books_df:\n",
            "Index              0\n",
            "Book Name          0\n",
            "Author             0\n",
            "Rating             0\n",
            "Number of Votes    0\n",
            "Score              0\n",
            "dtype: int64\n",
            "\n",
            "Duplikasi di books_df:\n",
            "0\n",
            "\n",
            "books_df 5 baris pertama:\n",
            "   Index                                          Book Name            Author  \\\n",
            "0      1                  The Invisible Life of Addie LaRue   Victoria Schwab   \n",
            "1      2  The House in the Cerulean Sea (Cerulean Chroni...        T.J. Klune   \n",
            "2      3                                  Project Hail Mary         Andy Weir   \n",
            "3      4                               The Midnight Library         Matt Haig   \n",
            "4      5                               I'm Glad My Mom Died  Jennette McCurdy   \n",
            "\n",
            "  Rating Number of Votes  Score  \n",
            "0   4.18       1,184,531  62443  \n",
            "1   4.40         718,243  47323  \n",
            "2   4.51         657,869  45972  \n",
            "3   3.99       1,967,348  42746  \n",
            "4   4.46       1,151,831  37509  \n"
          ]
        }
      ]
    },
    {
      "cell_type": "markdown",
      "source": [
        "- Index: kode unik setiap buku.\n",
        "- Book Name: judul dari buku.\n",
        "- Author: penulis buku.\n",
        "- Rating: rata-rata ulasan yang diberikan user (1-5).\n",
        "- Number of Votes: total vote untuk buku.\n",
        "- Score: jumlah score dari ulasan buku dan total vote buku.\n",
        "\n",
        "- Terdiri dari 2 kolom bertipe numerik dan 4 kolom bertipe string.\n",
        "- Tidak ada missing values (null) artinya data siap dianalisis lebih lanjut.\n",
        "- Tidak adanya duplikasi data artinya data sudah sesuai."
      ],
      "metadata": {
        "id": "2nN0tMn4rvFC"
      }
    },
    {
      "cell_type": "code",
      "source": [
        "# Dataset user\n",
        "print(\"Info users_df:\")\n",
        "users_df.info()\n",
        "print(\"\\nMissing values di users_df:\")\n",
        "print(users_df.isnull().sum())\n",
        "print(\"\\nDuplikasi di users_df:\")\n",
        "print(users_df.duplicated().sum())\n",
        "print(\"\\nusers_df 5 baris pertama:\")\n",
        "print(users_df.head())"
      ],
      "metadata": {
        "id": "yH1XST2GDKg-",
        "colab": {
          "base_uri": "https://localhost:8080/"
        },
        "outputId": "696496bd-8c42-4896-d232-46ba6a97745a"
      },
      "execution_count": 7,
      "outputs": [
        {
          "output_type": "stream",
          "name": "stdout",
          "text": [
            "Info users_df:\n",
            "<class 'pandas.core.frame.DataFrame'>\n",
            "RangeIndex: 600000 entries, 0 to 599999\n",
            "Data columns (total 3 columns):\n",
            " #   Column     Non-Null Count   Dtype\n",
            "---  ------     --------------   -----\n",
            " 0   userId     600000 non-null  int64\n",
            " 1   bookIndex  600000 non-null  int64\n",
            " 2   score      600000 non-null  int64\n",
            "dtypes: int64(3)\n",
            "memory usage: 13.7 MB\n",
            "\n",
            "Missing values di users_df:\n",
            "userId       0\n",
            "bookIndex    0\n",
            "score        0\n",
            "dtype: int64\n",
            "\n",
            "Duplikasi di users_df:\n",
            "175\n",
            "\n",
            "users_df 5 baris pertama:\n",
            "   userId  bookIndex  score\n",
            "0   65674        745      3\n",
            "1   45825        454      1\n",
            "2   22291       1523      3\n",
            "3   66943       1727      5\n",
            "4   27529       1867      2\n"
          ]
        }
      ]
    },
    {
      "cell_type": "code",
      "source": [
        "# Melihat jumlah duplikasi per kolom\n",
        "for col in users_df.columns:\n",
        "    dup_vals = users_df[col].value_counts()\n",
        "    dup_vals = dup_vals[dup_vals > 1]\n",
        "    if not dup_vals.empty:\n",
        "        print(f\"Kolom '{col}' memiliki nilai duplikat berikut:\\n{dup_vals}\\n\")"
      ],
      "metadata": {
        "colab": {
          "base_uri": "https://localhost:8080/"
        },
        "id": "oCzE5gLiwCSZ",
        "outputId": "f69e9b21-d1ed-48cc-98b7-9ced9cebba32"
      },
      "execution_count": 8,
      "outputs": [
        {
          "output_type": "stream",
          "name": "stdout",
          "text": [
            "Kolom 'userId' memiliki nilai duplikat berikut:\n",
            "userId\n",
            "70080    21\n",
            "54930    21\n",
            "23406    21\n",
            "68378    21\n",
            "46351    21\n",
            "         ..\n",
            "40649     2\n",
            "1614      2\n",
            "71350     2\n",
            "48952     2\n",
            "33849     2\n",
            "Name: count, Length: 79614, dtype: int64\n",
            "\n",
            "Kolom 'bookIndex' memiliki nilai duplikat berikut:\n",
            "bookIndex\n",
            "1627    315\n",
            "599     310\n",
            "594     306\n",
            "2196    305\n",
            "331     305\n",
            "       ... \n",
            "936     213\n",
            "1928    212\n",
            "382     212\n",
            "1572    212\n",
            "1690    203\n",
            "Name: count, Length: 2327, dtype: int64\n",
            "\n",
            "Kolom 'score' memiliki nilai duplikat berikut:\n",
            "score\n",
            "1    120534\n",
            "5    120260\n",
            "2    120139\n",
            "3    119543\n",
            "4    119524\n",
            "Name: count, dtype: int64\n",
            "\n"
          ]
        }
      ]
    },
    {
      "cell_type": "markdown",
      "source": [
        "- userId: kode unik setiap user.\n",
        "- bookIndex: kode unik setiap buku dari dataset buku.\n",
        "- score: score atau ulasan yang diberikan user untuk setiap buku (1-5).\n",
        "\n",
        "- Terdiri dari 3 kolom bertipe numerik.\n",
        "- Tidak adanya missing values (null) dan data siap dianalisis lebih lanjut.\n",
        "- Terdapat duplikasi data sebanyak 175 entri."
      ],
      "metadata": {
        "id": "FwhsMbq1twcr"
      }
    },
    {
      "cell_type": "code",
      "source": [
        "#Visualisasi Distribusi Rating Buku\n",
        "plt.figure(figsize=(10, 6))\n",
        "sns.countplot(x='score', data=users_df, palette='viridis')\n",
        "plt.title('Distribution of Book Ratings')\n",
        "plt.xlabel('Book Rating')\n",
        "plt.ylabel('Count')\n",
        "plt.show()\n",
        "\n",
        "print(\"Rating terbanyak: \")\n",
        "print(users_df['score'].value_counts())"
      ],
      "metadata": {
        "colab": {
          "base_uri": "https://localhost:8080/",
          "height": 799
        },
        "id": "3y9F4-7TDscF",
        "outputId": "e6648aa9-e6c5-4d1f-f573-42779b028754"
      },
      "execution_count": 9,
      "outputs": [
        {
          "output_type": "stream",
          "name": "stderr",
          "text": [
            "<ipython-input-9-0283d3c7c5fe>:3: FutureWarning: \n",
            "\n",
            "Passing `palette` without assigning `hue` is deprecated and will be removed in v0.14.0. Assign the `x` variable to `hue` and set `legend=False` for the same effect.\n",
            "\n",
            "  sns.countplot(x='score', data=users_df, palette='viridis')\n"
          ]
        },
        {
          "output_type": "display_data",
          "data": {
            "text/plain": [
              "<Figure size 1000x600 with 1 Axes>"
            ],
            "image/png": "[encoded data removed]"
          },
          "metadata": {}
        },
        {
          "output_type": "stream",
          "name": "stdout",
          "text": [
            "Rating terbanyak: \n",
            "score\n",
            "1    120534\n",
            "5    120260\n",
            "2    120139\n",
            "3    119543\n",
            "4    119524\n",
            "Name: count, dtype: int64\n"
          ]
        }
      ]
    },
    {
      "cell_type": "markdown",
      "source": [
        "- Rating 1 merupakan rating terbanyak yang diberikan user pada setiap buku yaitu 120.498\n",
        "- Rating 5 merupakan rating terkecil yang diberikan user kepada buku yaitu 119.488"
      ],
      "metadata": {
        "id": "roQnN5pAMi9b"
      }
    },
    {
      "cell_type": "markdown",
      "source": [
        "## Data Preparation"
      ],
      "metadata": {
        "id": "MUw2VEipENB0"
      }
    },
    {
      "cell_type": "code",
      "source": [
        "books_df = books_df.rename(columns={'Index': 'bookIndex'})\n",
        "books_df.info()"
      ],
      "metadata": {
        "colab": {
          "base_uri": "https://localhost:8080/"
        },
        "id": "e11ETM4WGEq4",
        "outputId": "54525b05-c711-4fed-e2de-83e783bf89a1"
      },
      "execution_count": 10,
      "outputs": [
        {
          "output_type": "stream",
          "name": "stdout",
          "text": [
            "<class 'pandas.core.frame.DataFrame'>\n",
            "RangeIndex: 2329 entries, 0 to 2328\n",
            "Data columns (total 6 columns):\n",
            " #   Column           Non-Null Count  Dtype \n",
            "---  ------           --------------  ----- \n",
            " 0   bookIndex        2329 non-null   int64 \n",
            " 1   Book Name        2329 non-null   object\n",
            " 2   Author           2329 non-null   object\n",
            " 3   Rating           2329 non-null   object\n",
            " 4   Number of Votes  2329 non-null   object\n",
            " 5   Score            2329 non-null   int64 \n",
            "dtypes: int64(2), object(4)\n",
            "memory usage: 109.3+ KB\n"
          ]
        }
      ]
    },
    {
      "cell_type": "markdown",
      "source": [
        "- Perubahan nama kolom pakai books_df agar sama seperti users_df"
      ],
      "metadata": {
        "id": "0HuVx3gAfVXf"
      }
    },
    {
      "cell_type": "code",
      "source": [
        "# Drop duplicates pada users_df\n",
        "users_df.drop_duplicates(inplace=True)\n",
        "print(\"Shape of users_df setelah drop duplicates:\", users_df.shape)"
      ],
      "metadata": {
        "id": "FBwWXaP1DKeb",
        "colab": {
          "base_uri": "https://localhost:8080/"
        },
        "outputId": "1721e1dc-f76a-48be-95a5-60125707a47a"
      },
      "execution_count": 11,
      "outputs": [
        {
          "output_type": "stream",
          "name": "stdout",
          "text": [
            "Shape of users_df setelah drop duplicates: (599825, 3)\n"
          ]
        }
      ]
    },
    {
      "cell_type": "markdown",
      "source": [
        "- Karena terdapat duplikasi sebanyak 175 entri data langsung srop dan jumlah datanya menjadi 599.825 tetap dengan 3 kolom"
      ],
      "metadata": {
        "id": "cmttiX8XBEv1"
      }
    },
    {
      "cell_type": "code",
      "source": [
        "# Persiapan dataset users_df\n",
        "# Untuk Content-Based, kita hanya perlu books_df yang sudah bersih.\n",
        "# Untuk Collaborative Filtering, kita perlu users_df.\n",
        "\n",
        "# Filter rating eksplisit untuk Collaborative Filtering\n",
        "ratings_explicit_df = users_df[users_df['score'] != 0]\n",
        "print(f\"\\nOriginal ratings: {len(users_df)}, Explicit ratings: {len(ratings_explicit_df)}\")\n",
        "\n",
        "# Gabungkan dengan informasi buku untuk kemudahan\n",
        "full_data_explicit = ratings_explicit_df.merge(books_df[['bookIndex', 'Book Name']], on='bookIndex')\n",
        "\n",
        "print(\"\\nFirst 5 rows of merged explicit ratings data:\")\n",
        "print(full_data_explicit.head(10))"
      ],
      "metadata": {
        "colab": {
          "base_uri": "https://localhost:8080/"
        },
        "id": "l9Dpz1VSCBfO",
        "outputId": "45bbd963-efb5-4c55-8fbb-cc6cf30489ef"
      },
      "execution_count": 12,
      "outputs": [
        {
          "output_type": "stream",
          "name": "stdout",
          "text": [
            "\n",
            "Original ratings: 599825, Explicit ratings: 599825\n",
            "\n",
            "First 5 rows of merged explicit ratings data:\n",
            "   userId  bookIndex  score                                          Book Name\n",
            "0   65674        745      3                                          Eden Mine\n",
            "1   45825        454      1            A Stitch in Time (A Stitch in Time, #1)\n",
            "2   22291       1523      3  The Unforgettable Logan Foster (Logan Foster, #1)\n",
            "3   66943       1727      5                                        Age of Vice\n",
            "4   27529       1867      2              Angelika Frankenstein Makes Her Match\n",
            "5   39153       1863      1   The Bone Shard Emperor (The Drowning Empire, #2)\n",
            "6    1976        169      5                                              Bride\n",
            "7   62783         16      2                                The Love Hypothesis\n",
            "8   65107       1515      4                         Rebel (Sterling Falls, #3)\n",
            "9   70275       2015      2                               Spy x Family, Vol. 4\n"
          ]
        }
      ]
    },
    {
      "cell_type": "code",
      "source": [
        "full_data_explicit.duplicated().sum()"
      ],
      "metadata": {
        "colab": {
          "base_uri": "https://localhost:8080/"
        },
        "id": "bZbFyB1qfl3U",
        "outputId": "6f29aeba-4e76-4136-e68c-4e18ec5e8847"
      },
      "execution_count": 13,
      "outputs": [
        {
          "output_type": "execute_result",
          "data": {
            "text/plain": [
              "0"
            ]
          },
          "metadata": {},
          "execution_count": 13
        }
      ]
    },
    {
      "cell_type": "markdown",
      "source": [
        "- Rating yang diberikan user sebanyak 599.825 dan kabar baiknya secara eksplisit jadi memudahkan dalam menganalisis data dalam sistem rekomendasi ini.\n",
        "- Tampilan dari beberapa baris pertama ini disatukan menjadi userId, bookIndex, dan Book Name agar mudah dipanggil.\n",
        "- Setelah dicek penggabungan di atas terlihat tidak adanya duplikasi data ya."
      ],
      "metadata": {
        "id": "Fns5CBflfe8X"
      }
    },
    {
      "cell_type": "code",
      "source": [
        "# Filtering untuk Collaborative Filtering (mengurangi sparsity)\n",
        "# Pertimbangkan pengguna yang memberi setidaknya N rating dan buku yang menerima setidaknya M rating\n",
        "min_ratings_user = 3 # Contoh threshold\n",
        "user_counts = full_data_explicit['userId'].value_counts()\n",
        "active_users = user_counts[user_counts >= min_ratings_user].index\n",
        "filtered_ratings_cf = full_data_explicit[full_data_explicit['userId'].isin(active_users)]\n",
        "\n",
        "min_ratings_book = 3 # pakai threshold\n",
        "book_counts = filtered_ratings_cf['bookIndex'].value_counts()\n",
        "popular_books = book_counts[book_counts >= min_ratings_book].index\n",
        "filtered_ratings_cf = filtered_ratings_cf[filtered_ratings_cf['bookIndex'].isin(popular_books)]\n",
        "print(f\"\\nShape of filtered_ratings_cf for Collaborative Filtering: {filtered_ratings_cf.shape}\")\n",
        "\n",
        "if filtered_ratings_cf.empty:\n",
        "    print(\"WARNING: filtered_ratings_cf kosong. Thresholds untuk filtering sebaiknya lebih besar.\")\n",
        "else:\n",
        "    print(\"Filtered ratings for CF siap.\")"
      ],
      "metadata": {
        "colab": {
          "base_uri": "https://localhost:8080/"
        },
        "id": "DYtfbKV5CFWm",
        "outputId": "948308ed-7cf3-40ec-e232-9f7a843f632a"
      },
      "execution_count": 14,
      "outputs": [
        {
          "output_type": "stream",
          "name": "stdout",
          "text": [
            "\n",
            "Shape of filtered_ratings_cf for Collaborative Filtering: (596998, 4)\n",
            "Filtered ratings for CF siap.\n"
          ]
        }
      ]
    },
    {
      "cell_type": "code",
      "source": [
        "filtered_ratings_cf.head()"
      ],
      "metadata": {
        "colab": {
          "base_uri": "https://localhost:8080/",
          "height": 206
        },
        "id": "o0-MgT0cmnoS",
        "outputId": "267d3baa-38f9-42e1-d40e-e6501971ff57"
      },
      "execution_count": 15,
      "outputs": [
        {
          "output_type": "execute_result",
          "data": {
            "text/plain": [
              "   userId  bookIndex  score                                          Book Name\n",
              "0   65674        745      3                                          Eden Mine\n",
              "1   45825        454      1            A Stitch in Time (A Stitch in Time, #1)\n",
              "2   22291       1523      3  The Unforgettable Logan Foster (Logan Foster, #1)\n",
              "3   66943       1727      5                                        Age of Vice\n",
              "4   27529       1867      2              Angelika Frankenstein Makes Her Match"
            ],
            "text/html": [
              "\n",
              "  <div id=\"df-0bef8b65-ffb5-45b7-8598-231e27e8523c\" class=\"colab-df-container\">\n",
              "    <div>\n",
              "<style scoped>\n",
              "    .dataframe tbody tr th:only-of-type {\n",
              "        vertical-align: middle;\n",
              "    }\n",
              "\n",
              "    .dataframe tbody tr th {\n",
              "        vertical-align: top;\n",
              "    }\n",
              "\n",
              "    .dataframe thead th {\n",
              "        text-align: right;\n",
              "    }\n",
              "</style>\n",
              "<table border=\"1\" class=\"dataframe\">\n",
              "  <thead>\n",
              "    <tr style=\"text-align: right;\">\n",
              "      <th></th>\n",
              "      <th>userId</th>\n",
              "      <th>bookIndex</th>\n",
              "      <th>score</th>\n",
              "      <th>Book Name</th>\n",
              "    </tr>\n",
              "  </thead>\n",
              "  <tbody>\n",
              "    <tr>\n",
              "      <th>0</th>\n",
              "      <td>65674</td>\n",
              "      <td>745</td>\n",
              "      <td>3</td>\n",
              "      <td>Eden Mine</td>\n",
              "    </tr>\n",
              "    <tr>\n",
              "      <th>1</th>\n",
              "      <td>45825</td>\n",
              "      <td>454</td>\n",
              "      <td>1</td>\n",
              "      <td>A Stitch in Time (A Stitch in Time, #1)</td>\n",
              "    </tr>\n",
              "    <tr>\n",
              "      <th>2</th>\n",
              "      <td>22291</td>\n",
              "      <td>1523</td>\n",
              "      <td>3</td>\n",
              "      <td>The Unforgettable Logan Foster (Logan Foster, #1)</td>\n",
              "    </tr>\n",
              "    <tr>\n",
              "      <th>3</th>\n",
              "      <td>66943</td>\n",
              "      <td>1727</td>\n",
              "      <td>5</td>\n",
              "      <td>Age of Vice</td>\n",
              "    </tr>\n",
              "    <tr>\n",
              "      <th>4</th>\n",
              "      <td>27529</td>\n",
              "      <td>1867</td>\n",
              "      <td>2</td>\n",
              "      <td>Angelika Frankenstein Makes Her Match</td>\n",
              "    </tr>\n",
              "  </tbody>\n",
              "</table>\n",
              "</div>\n",
              "    <div class=\"colab-df-buttons\">\n",
              "\n",
              "  <div class=\"colab-df-container\">\n",
              "    <button class=\"colab-df-convert\" onclick=\"convertToInteractive('df-0bef8b65-ffb5-45b7-8598-231e27e8523c')\"\n",
              "            title=\"Convert this dataframe to an interactive table.\"\n",
              "            style=\"display:none;\">\n",
              "\n",
              "  <svg xmlns=\"http://www.w3.org/2000/svg\" height=\"24px\" viewBox=\"0 -960 960 960\">\n",
              "    <path d=\"M120-120v-720h720v720H120Zm60-500h600v-160H180v160Zm220 220h160v-160H400v160Zm0 220h160v-160H400v160ZM180-400h160v-160H180v160Zm440 0h160v-160H620v160ZM180-180h160v-160H180v160Zm440 0h160v-160H620v160Z\"/>\n",
              "  </svg>\n",
              "    </button>\n",
              "\n",
              "  <style>\n",
              "    .colab-df-container {\n",
              "      display:flex;\n",
              "      gap: 12px;\n",
              "    }\n",
              "\n",
              "    .colab-df-convert {\n",
              "      background-color: #E8F0FE;\n",
              "      border: none;\n",
              "      border-radius: 50%;\n",
              "      cursor: pointer;\n",
              "      display: none;\n",
              "      fill: #1967D2;\n",
              "      height: 32px;\n",
              "      padding: 0 0 0 0;\n",
              "      width: 32px;\n",
              "    }\n",
              "\n",
              "    .colab-df-convert:hover {\n",
              "      background-color: #E2EBFA;\n",
              "      box-shadow: 0px 1px 2px rgba(60, 64, 67, 0.3), 0px 1px 3px 1px rgba(60, 64, 67, 0.15);\n",
              "      fill: #174EA6;\n",
              "    }\n",
              "\n",
              "    .colab-df-buttons div {\n",
              "      margin-bottom: 4px;\n",
              "    }\n",
              "\n",
              "    [theme=dark] .colab-df-convert {\n",
              "      background-color: #3B4455;\n",
              "      fill: #D2E3FC;\n",
              "    }\n",
              "\n",
              "    [theme=dark] .colab-df-convert:hover {\n",
              "      background-color: #434B5C;\n",
              "      box-shadow: 0px 1px 3px 1px rgba(0, 0, 0, 0.15);\n",
              "      filter: drop-shadow(0px 1px 2px rgba(0, 0, 0, 0.3));\n",
              "      fill: #FFFFFF;\n",
              "    }\n",
              "  </style>\n",
              "\n",
              "    <script>\n",
              "      const buttonEl =\n",
              "        document.querySelector('#df-0bef8b65-ffb5-45b7-8598-231e27e8523c button.colab-df-convert');\n",
              "      buttonEl.style.display =\n",
              "        google.colab.kernel.accessAllowed ? 'block' : 'none';\n",
              "\n",
              "      async function convertToInteractive(key) {\n",
              "        const element = document.querySelector('#df-0bef8b65-ffb5-45b7-8598-231e27e8523c');\n",
              "        const dataTable =\n",
              "          await google.colab.kernel.invokeFunction('convertToInteractive',\n",
              "                                                    [key], {});\n",
              "        if (!dataTable) return;\n",
              "\n",
              "        const docLinkHtml = 'Like what you see? Visit the ' +\n",
              "          '<a target=\"_blank\" href=https://colab.research.google.com/notebooks/data_table.ipynb>data table notebook</a>'\n",
              "          + ' to learn more about interactive tables.';\n",
              "        element.innerHTML = '';\n",
              "        dataTable['output_type'] = 'display_data';\n",
              "        await google.colab.output.renderOutput(dataTable, element);\n",
              "        const docLink = document.createElement('div');\n",
              "        docLink.innerHTML = docLinkHtml;\n",
              "        element.appendChild(docLink);\n",
              "      }\n",
              "    </script>\n",
              "  </div>\n",
              "\n",
              "\n",
              "    <div id=\"df-43990940-68ec-4c4a-9abb-e18abd536437\">\n",
              "      <button class=\"colab-df-quickchart\" onclick=\"quickchart('df-43990940-68ec-4c4a-9abb-e18abd536437')\"\n",
              "                title=\"Suggest charts\"\n",
              "                style=\"display:none;\">\n",
              "\n",
              "<svg xmlns=\"http://www.w3.org/2000/svg\" height=\"24px\"viewBox=\"0 0 24 24\"\n",
              "     width=\"24px\">\n",
              "    <g>\n",
              "        <path d=\"M19 3H5c-1.1 0-2 .9-2 2v14c0 1.1.9 2 2 2h14c1.1 0 2-.9 2-2V5c0-1.1-.9-2-2-2zM9 17H7v-7h2v7zm4 0h-2V7h2v10zm4 0h-2v-4h2v4z\"/>\n",
              "    </g>\n",
              "</svg>\n",
              "      </button>\n",
              "\n",
              "<style>\n",
              "  .colab-df-quickchart {\n",
              "      --bg-color: #E8F0FE;\n",
              "      --fill-color: #1967D2;\n",
              "      --hover-bg-color: #E2EBFA;\n",
              "      --hover-fill-color: #174EA6;\n",
              "      --disabled-fill-color: #AAA;\n",
              "      --disabled-bg-color: #DDD;\n",
              "  }\n",
              "\n",
              "  [theme=dark] .colab-df-quickchart {\n",
              "      --bg-color: #3B4455;\n",
              "      --fill-color: #D2E3FC;\n",
              "      --hover-bg-color: #434B5C;\n",
              "      --hover-fill-color: #FFFFFF;\n",
              "      --disabled-bg-color: #3B4455;\n",
              "      --disabled-fill-color: #666;\n",
              "  }\n",
              "\n",
              "  .colab-df-quickchart {\n",
              "    background-color: var(--bg-color);\n",
              "    border: none;\n",
              "    border-radius: 50%;\n",
              "    cursor: pointer;\n",
              "    display: none;\n",
              "    fill: var(--fill-color);\n",
              "    height: 32px;\n",
              "    padding: 0;\n",
              "    width: 32px;\n",
              "  }\n",
              "\n",
              "  .colab-df-quickchart:hover {\n",
              "    background-color: var(--hover-bg-color);\n",
              "    box-shadow: 0 1px 2px rgba(60, 64, 67, 0.3), 0 1px 3px 1px rgba(60, 64, 67, 0.15);\n",
              "    fill: var(--button-hover-fill-color);\n",
              "  }\n",
              "\n",
              "  .colab-df-quickchart-complete:disabled,\n",
              "  .colab-df-quickchart-complete:disabled:hover {\n",
              "    background-color: var(--disabled-bg-color);\n",
              "    fill: var(--disabled-fill-color);\n",
              "    box-shadow: none;\n",
              "  }\n",
              "\n",
              "  .colab-df-spinner {\n",
              "    border: 2px solid var(--fill-color);\n",
              "    border-color: transparent;\n",
              "    border-bottom-color: var(--fill-color);\n",
              "    animation:\n",
              "      spin 1s steps(1) infinite;\n",
              "  }\n",
              "\n",
              "  @keyframes spin {\n",
              "    0% {\n",
              "      border-color: transparent;\n",
              "      border-bottom-color: var(--fill-color);\n",
              "      border-left-color: var(--fill-color);\n",
              "    }\n",
              "    20% {\n",
              "      border-color: transparent;\n",
              "      border-left-color: var(--fill-color);\n",
              "      border-top-color: var(--fill-color);\n",
              "    }\n",
              "    30% {\n",
              "      border-color: transparent;\n",
              "      border-left-color: var(--fill-color);\n",
              "      border-top-color: var(--fill-color);\n",
              "      border-right-color: var(--fill-color);\n",
              "    }\n",
              "    40% {\n",
              "      border-color: transparent;\n",
              "      border-right-color: var(--fill-color);\n",
              "      border-top-color: var(--fill-color);\n",
              "    }\n",
              "    60% {\n",
              "      border-color: transparent;\n",
              "      border-right-color: var(--fill-color);\n",
              "    }\n",
              "    80% {\n",
              "      border-color: transparent;\n",
              "      border-right-color: var(--fill-color);\n",
              "      border-bottom-color: var(--fill-color);\n",
              "    }\n",
              "    90% {\n",
              "      border-color: transparent;\n",
              "      border-bottom-color: var(--fill-color);\n",
              "    }\n",
              "  }\n",
              "</style>\n",
              "\n",
              "      <script>\n",
              "        async function quickchart(key) {\n",
              "          const quickchartButtonEl =\n",
              "            document.querySelector('#' + key + ' button');\n",
              "          quickchartButtonEl.disabled = true;  // To prevent multiple clicks.\n",
              "          quickchartButtonEl.classList.add('colab-df-spinner');\n",
              "          try {\n",
              "            const charts = await google.colab.kernel.invokeFunction(\n",
              "                'suggestCharts', [key], {});\n",
              "          } catch (error) {\n",
              "            console.error('Error during call to suggestCharts:', error);\n",
              "          }\n",
              "          quickchartButtonEl.classList.remove('colab-df-spinner');\n",
              "          quickchartButtonEl.classList.add('colab-df-quickchart-complete');\n",
              "        }\n",
              "        (() => {\n",
              "          let quickchartButtonEl =\n",
              "            document.querySelector('#df-43990940-68ec-4c4a-9abb-e18abd536437 button');\n",
              "          quickchartButtonEl.style.display =\n",
              "            google.colab.kernel.accessAllowed ? 'block' : 'none';\n",
              "        })();\n",
              "      </script>\n",
              "    </div>\n",
              "\n",
              "    </div>\n",
              "  </div>\n"
            ],
            "application/vnd.google.colaboratory.intrinsic+json": {
              "type": "dataframe",
              "variable_name": "filtered_ratings_cf"
            }
          },
          "metadata": {},
          "execution_count": 15
        }
      ]
    },
    {
      "cell_type": "markdown",
      "source": [
        "- Proses pemfilteran data rating telah berhasil diselesaikan untuk keperluan Collaborative Filtering\n",
        "- Menghasilkan dataset siap pakai yang diberi nama filtered_ratings_cf (564113, 4), yang berarti terdiri dari 564.113 baris data (kemungkinan merepresentasikan interaksi pengguna-buku berupa rating) dengan 4 kolom atribut (seperti userId, bookIndex, score, Book Name.), yang kini siap digunakan untuk melatih atau mengaplikasikan model rekomendasi berbasis kolaborasi"
      ],
      "metadata": {
        "id": "lPunrjzZinhq"
      }
    },
    {
      "cell_type": "markdown",
      "source": [
        "## Modeling Content-Based Filtering"
      ],
      "metadata": {
        "id": "sk8QU_8BETd_"
      }
    },
    {
      "cell_type": "code",
      "source": [
        "# Content-Based Filtering\n",
        "from sklearn.metrics.pairwise import linear_kernel, cosine_similarity\n",
        "books_cb_sample = books_df.copy()\n",
        "\n",
        "# Gunakan 'books_cb_sample' di langkah selanjutnya\n",
        "books_cb_sample.fillna('', inplace=True)\n",
        "books_cb_sample['content'] = books_cb_sample['Book Name'] + ' ' + books_cb_sample['Author']\n",
        "\n",
        "# Inisialisasi TF-IDF Vectorizer\n",
        "tfidf = TfidfVectorizer(stop_words='english', ngram_range=(1,2))\n",
        "\n",
        "# Membuat matriks TF-IDF dari sample\n",
        "print(\"Menerapkan TF-IDF pada sample\")\n",
        "tfidf_matrix_sample = tfidf.fit_transform(books_cb_sample['content'])\n",
        "print(\"Shape of TF-IDF matrix (sample):\", tfidf_matrix_sample.shape)\n",
        "\n",
        "# Menghitung kemiripan pada sample\n",
        "print(\"Menghitung kemiripan pada sample dengan cosine_similarity\")\n",
        "# cosine_sim_cb_sample = linear_kernel(tfidf_matrix_sample, tfidf_matrix_sample)\n",
        "cosine_sim_cb_sample = cosine_similarity(tfidf_matrix_sample, tfidf_matrix_sample)\n",
        "print(\"Shape of Similarity matrix (sample):\", cosine_sim_cb_sample.shape)\n",
        "\n",
        "# Membuat mapping dari bookIndex ke Indeks untuk sampleL\n",
        "books_cb_sample.reset_index(drop=True, inplace=True) # Reset index sample\n",
        "indices_cb_sample = pd.Series(books_cb_sample.index, index=books_cb_sample['bookIndex']).drop_duplicates()\n",
        "\n",
        "# Fungsi untuk mendapatkan rekomendasi (disesuaikan untuk sampel)\n",
        "def get_content_based_recommendations_sample(bookindex, N=10):\n",
        "    if bookindex not in indices_cb_sample:\n",
        "        return f\"bookIndex {bookindex} tidak ditemukan pada sample list bookIndex unik.\"\n",
        "\n",
        "    try:\n",
        "      idx = indices_cb_sample[bookindex]\n",
        "      if isinstance(idx, pd.Series): idx = idx.iloc[0]\n",
        "    except KeyError:\n",
        "        return f\"bookIndex {bookindex} tidak ditemukan pada sample mapping.\"\n",
        "    except Exception as e:\n",
        "        return f\"Error menemukan index untuk sample bookIndex {bookindex}: {e}\"\n",
        "\n",
        "    sim_scores = list(enumerate(cosine_sim_cb_sample[idx]))\n",
        "    sim_scores = sorted(sim_scores, key=lambda x: x[1], reverse=True)\n",
        "    sim_scores = sim_scores[1:N+1]\n",
        "    book_indices = [i[0] for i in sim_scores]\n",
        "\n",
        "    # Kembalikan N buku paling mirip dari SAMPEL\n",
        "    recommended_books = books_cb_sample.iloc[book_indices][['bookIndex', 'Book Name', 'Author']]\n",
        "    recommended_books['similarity_score'] = [s[1] for s in sim_scores]\n",
        "    return recommended_books\n",
        "\n",
        "# Metrik evaluasi\n",
        "from sklearn.metrics import ndcg_score\n",
        "import numpy as np\n",
        "\n",
        "def precision_at_k(y_true, y_pred, k):\n",
        "    precisions = []\n",
        "    for true_items, pred_items in zip(y_true, y_pred):\n",
        "        pred_k = pred_items[:k]\n",
        "        hit = len(set(pred_k) & set(true_items))\n",
        "        precisions.append(hit / k)\n",
        "    return np.mean(precisions)\n",
        "\n",
        "def recall_at_k(y_true, y_pred, k):\n",
        "    recalls = []\n",
        "    for true_items, pred_items in zip(y_true, y_pred):\n",
        "        pred_k = pred_items[:k]\n",
        "        if len(true_items) == 0:\n",
        "            recalls.append(0)\n",
        "        else:\n",
        "            hit = len(set(pred_k) & set(true_items))\n",
        "            recalls.append(hit / len(true_items))\n",
        "    return np.mean(recalls)\n",
        "\n",
        "def ndcg_at_k(y_true, y_pred, k):\n",
        "    ndcgs = []\n",
        "    for true_items, pred_items in zip(y_true, y_pred):\n",
        "        pred_k = pred_items[:k]\n",
        "        relevance = [1 if item in true_items else 0 for item in pred_k]\n",
        "        ndcgs.append(ndcg_score([relevance], [relevance]))\n",
        "    return np.mean(ndcgs)\n",
        "\n",
        "# Buat ground truth sederhana berdasarkan pengarang yang sama\n",
        "ground_truth = {}\n",
        "for idx, row in books_cb_sample.iterrows():\n",
        "    bookindex = row['bookIndex']\n",
        "    author = row['Author']\n",
        "    relevant_books = books_cb_sample[books_cb_sample['Author'] == author]['bookIndex'].tolist()\n",
        "    relevant_books = [b for b in relevant_books if b != bookindex]  # Exclude diri sendiri\n",
        "    ground_truth[bookindex] = relevant_books\n",
        "\n",
        "K = 5\n",
        "y_true = []\n",
        "y_pred = []\n",
        "\n",
        "for bookindex in books_cb_sample['bookIndex']:\n",
        "    gt = ground_truth.get(bookindex, [])\n",
        "    recs_df = get_content_based_recommendations_sample(bookindex, N=K)\n",
        "\n",
        "    if isinstance(recs_df, str):\n",
        "        continue  # Skip if error\n",
        "\n",
        "    preds = recs_df['bookIndex'].tolist()\n",
        "    y_true.append(gt)\n",
        "    y_pred.append(preds)\n",
        "\n",
        "# Evaluasi metrik\n",
        "print(f\"\\nEvaluasi untuk Content-Based Filtering (K={K}):\")\n",
        "print(\"Precision@K:\", precision_at_k(y_true, y_pred, K))\n",
        "print(\"Recall@K:\", recall_at_k(y_true, y_pred, K))\n",
        "print(\"NDCG@K:\", ndcg_at_k(y_true, y_pred, K))\n",
        "\n",
        "# Contoh penggunaan Content-Based Filtering pada SAMPEL\n",
        "if not books_cb_sample.empty:\n",
        "    # Cari bookIndex contoh yang ADA di dalam sampel\n",
        "    try:\n",
        "        sample_bookindex_cb_in_sample = books_cb_sample['bookIndex'].iloc[0]\n",
        "        sample_title_in_sample = books_cb_sample.loc[books_cb_sample['bookIndex'] == sample_bookindex_cb_in_sample, 'Book Name'].values[0]\n",
        "        print(f\"\\nRecommendasi untuk buku (dari sample) dengan bookIndex: {sample_bookindex_cb_in_sample} ('{sample_title_in_sample}')\")\n",
        "        recommendations_cb_s = get_content_based_recommendations_sample(sample_bookindex_cb_in_sample, N=5)\n",
        "        print(recommendations_cb_s)\n",
        "    except IndexError:\n",
        "        print(\"\\nDataframe sample kosong, tidak dapat sample bookIndex.\")\n",
        "else:\n",
        "    print(\"books_cb_sample dataframe kosong. Tidak dapat menampilkan recommendasi.\")"
      ],
      "metadata": {
        "id": "nFrt6uklDKbl",
        "colab": {
          "base_uri": "https://localhost:8080/"
        },
        "outputId": "f7aafc5e-3696-4014-ca44-34adb12eb4d8"
      },
      "execution_count": 20,
      "outputs": [
        {
          "output_type": "stream",
          "name": "stdout",
          "text": [
            "Menerapkan TF-IDF pada sample\n",
            "Shape of TF-IDF matrix (sample): (2329, 15159)\n",
            "Menghitung kemiripan pada sample dengan cosine_similarity\n",
            "Shape of Similarity matrix (sample): (2329, 2329)\n"
          ]
        },
        {
          "output_type": "stream",
          "name": "stderr",
          "text": [
            "<ipython-input-20-d64edeb4500d>:47: SettingWithCopyWarning: \n",
            "A value is trying to be set on a copy of a slice from a DataFrame.\n",
            "Try using .loc[row_indexer,col_indexer] = value instead\n",
            "\n",
            "See the caveats in the documentation: https://pandas.pydata.org/pandas-docs/stable/user_guide/indexing.html#returning-a-view-versus-a-copy\n",
            "  recommended_books['similarity_score'] = [s[1] for s in sim_scores]\n"
          ]
        },
        {
          "output_type": "stream",
          "name": "stdout",
          "text": [
            "\n",
            "Evaluasi untuk Content-Based Filtering (K=5):\n",
            "Precision@K: 0.16436238729068267\n",
            "Recall@K: 0.3509025610141969\n",
            "NDCG@K: 0.37398024903392013\n",
            "\n",
            "Recommendasi untuk buku (dari sample) dengan bookIndex: 1 ('The Invisible Life of Addie LaRue')\n",
            "      bookIndex                                          Book Name  \\\n",
            "258         259                                            Gallant   \n",
            "1294       1295                Bridge of Souls (Cassidy Blake, #3)   \n",
            "592         593  The Fragile Threads of Power (Threads of Power...   \n",
            "2248       2249                                     Invisible Girl   \n",
            "1751       1752                                               Obit   \n",
            "\n",
            "               Author  similarity_score  \n",
            "258   Victoria Schwab          0.356272  \n",
            "1294  Victoria Schwab          0.237166  \n",
            "592   Victoria Schwab          0.181362  \n",
            "2248      Lisa Jewell          0.108246  \n",
            "1751   Victoria Chang          0.104261  \n"
          ]
        }
      ]
    },
    {
      "cell_type": "markdown",
      "source": [
        "- Output ini menunjukkan proses dan hasil dari sistem rekomendasi berbasis konten (content-based recommendation system) yang diterapkan pada dataset buku, contohnya buku-buku yang direkomendasikan dan mirip dengan buku berjudul \"'The Invisible Life of Addie LaRue'\". Sistem ini menggunakan data buku, menghitung kesamaan antar buku menggunakan representasi TF-IDF dan cosine similarity, kemudian menghasilkan daftar buku rekomendasi bersama dengan skor kesamaan. Hasilnya menunjukkan beberapa buku yang direkomendasikan beserta detailnya, dengan skor kesamaan yang bervariasi, mencerminkan seberapa mirip konten buku-buku."
      ],
      "metadata": {
        "id": "4sRI4LsIuwmR"
      }
    },
    {
      "cell_type": "markdown",
      "source": [
        "## Modeling Collaborative Filtering"
      ],
      "metadata": {
        "id": "6Jv0NXyBEW0Z"
      }
    },
    {
      "cell_type": "code",
      "source": [
        "# Collaborative Filtering\n",
        "# Menggunakan filtered_ratings_cf yang sudah dipersiapkan\n",
        "if filtered_ratings_cf.empty:\n",
        "    print(\"Lewati Collaborative Filtering karena kolom filtered_ratings_cf kosong.\")\n",
        "else:\n",
        "    # Persiapan data untuk Surprise\n",
        "    reader = Reader(rating_scale=(1, 5)) # Rating eksplisit dari 1 hingga 5\n",
        "    data_cf = Dataset.load_from_df(filtered_ratings_cf[['userId', 'bookIndex', 'score']], reader)\n",
        "\n",
        "    # Split data menjadi train dan test set\n",
        "    trainset_cf, testset_cf = surprise_train_test_split(data_cf, test_size=0.2, random_state=42)\n",
        "\n",
        "    # Menggunakan SVD\n",
        "    algo_svd = SVD(n_factors=50, n_epochs=20, lr_all=0.005, reg_all=0.02, random_state=42) # Parameter bisa di-tune\n",
        "    print(\"\\nMelatih model SVD\")\n",
        "    algo_svd.fit(trainset_cf)\n",
        "    print(\"SVD model selesai dilatih.\")\n",
        "\n",
        "    # Membuat prediksi pada test set\n",
        "    predictions_svd = algo_svd.test(testset_cf)\n",
        "\n",
        "    # Evaluasi model (RMSE dan MAE)\n",
        "    rmse_svd = accuracy.rmse(predictions_svd)\n",
        "    mae_svd = accuracy.mae(predictions_svd)\n",
        "    print(f\"SVD - RMSE: {rmse_svd}\")\n",
        "    print(f\"SVD - MAE: {mae_svd}\")\n",
        "\n",
        "    # Fungsi untuk mendapatkan top-N rekomendasi untuk pengguna\n",
        "    def get_collaborative_filtering_recommendations(user_id, N=10):\n",
        "        # Dapatkan daftar semua bookIndex yang belum dirating oleh pengguna\n",
        "        rated_bookindex = filtered_ratings_cf[filtered_ratings_cf['userId'] == user_id]['bookIndex'].unique()\n",
        "        all_bookindex = filtered_ratings_cf['bookIndex'].unique()\n",
        "        unrated_bookindex = [isbn for isbn in all_bookindex if isbn not in rated_bookindex]\n",
        "\n",
        "        if not unrated_bookindex:\n",
        "            return \"User has rated all available books or no unrated books found for this user in the filtered set.\"\n",
        "\n",
        "        # Prediksi rating untuk buku yang belum dirating\n",
        "        test_set_for_user = [[user_id, isbn, 0] for isbn in unrated_bookindex] # 0 adalah placeholder\n",
        "        predictions = algo_svd.test(test_set_for_user)\n",
        "\n",
        "        predictions.sort(key=lambda x: x.est, reverse=True) # Urutkan berdasarkan estimasi rating\n",
        "\n",
        "        top_n_predictions = predictions[:N]\n",
        "\n",
        "        # Dapatkan detail buku untuk rekomendasi\n",
        "        recommended_book_bookindex = [pred.iid for pred in top_n_predictions]\n",
        "        recommended_book_details = books_df[books_df['bookIndex'].isin(recommended_book_bookindex)][['bookIndex', 'Book Name', 'Author']]\n",
        "\n",
        "        # Tambahkan estimasi rating\n",
        "        # Perlu mencocokkan kembali karena urutan bisa berubah jika ada bookIndex duplikat atau tidak ditemukan\n",
        "        est_ratings_map = {pred.iid: pred.est for pred in top_n_predictions}\n",
        "        recommended_book_details['estimated_rating'] = recommended_book_details['bookIndex'].map(est_ratings_map)\n",
        "\n",
        "        # Urutkan berdasarkan estimasi rating lagi setelah merge\n",
        "        recommended_book_details = recommended_book_details.sort_values(by='estimated_rating', ascending=False).reset_index(drop=True)\n",
        "\n",
        "        return recommended_book_details\n",
        "\n",
        "    # Contoh penggunaan Collaborative Filtering\n",
        "    if not filtered_ratings_cf.empty:\n",
        "        # Ambil User-ID contoh dari dataset yang difilter\n",
        "        sample_user_id_cf = filtered_ratings_cf['userId'].unique()[0]\n",
        "        print(f\"\\nRekomendasi untuk userId: {sample_user_id_cf} menggunakan SVD\")\n",
        "        recommendations_cf = get_collaborative_filtering_recommendations(sample_user_id_cf, N=3)\n",
        "        print(recommendations_cf)\n",
        "    else:\n",
        "        print(\"filtered_ratings_cf kosong. Tidak dapat memberikan rekomendasi CF.\")"
      ],
      "metadata": {
        "id": "NGTAxPHJDKY2",
        "colab": {
          "base_uri": "https://localhost:8080/"
        },
        "outputId": "6769cdde-a113-4bb5-f9d0-77d5147579f4"
      },
      "execution_count": 17,
      "outputs": [
        {
          "output_type": "stream",
          "name": "stdout",
          "text": [
            "\n",
            "Melatih model SVD\n",
            "SVD model selesai dilatih.\n",
            "RMSE: 1.4591\n",
            "MAE:  1.2594\n",
            "SVD - RMSE: 1.4591139874142045\n",
            "SVD - MAE: 1.2594216050887375\n",
            "\n",
            "Rekomendasi untuk userId: 65674 menggunakan SVD\n",
            "   bookIndex                                          Book Name  \\\n",
            "0       1704                     Your Brain is Always Listening   \n",
            "1       2241  If It Sounds Like a Quack...: A Journey to the...   \n",
            "2       2275  A Queen of Ruin (Deliciously Dark Fairytales, #4)   \n",
            "\n",
            "                     Author  estimated_rating  \n",
            "0            Daniel G. Amen          3.945382  \n",
            "1  Matthew Hongoltz-Hetling          3.745854  \n",
            "2               K.F. Breene          3.703566  \n"
          ]
        }
      ]
    },
    {
      "cell_type": "markdown",
      "source": [
        "- Hasil dari penerapan model Singular Value Decomposition (SVD) untuk sistem rekomendasi, kemungkinan besar menggunakan pendekatan collaborative filtering. Setelah model SVD dilatih, kinerjanya dievaluasi menggunakan metrik RMSE sebesar 1.4591 dan MAE sebesar 1.2594, yang mengindikasikan tingkat kesalahan prediksi rating.\n",
        "- Sistem ini memberikan rekomendasi buku yang dipersonalisasi untuk User dengan ID 65674, menyajikan daftar buku beserta perkiraan rating (estimated_rating) yang menunjukkan seberapa besar kemungkinan user tersebut akan menyukai buku-buku yang direkomendasikan berdasarkan pola rating dari user lain."
      ],
      "metadata": {
        "id": "UddXEw1IxS8p"
      }
    },
    {
      "cell_type": "markdown",
      "source": [
        "## Evaluation Content-Based Filtering"
      ],
      "metadata": {
        "id": "tMysEiC3Ec2V"
      }
    },
    {
      "cell_type": "code",
      "source": [
        "# Evaluasi Content-Based Filtering\n",
        "\n",
        "print(\"\\nEvaluasi Content-Based Filtering\")\n",
        "# Berdasarka visual atau kualitatif, jadi perlu lihat hasilnya dan nilai sendiri.\n",
        "\n",
        "if not books_cb_sample.empty:\n",
        "    # Pilih satu buku acak dari sampel untuk diuji\n",
        "    try:\n",
        "        random_book_in_sample = books_cb_sample.sample(1, random_state=42).iloc[0]\n",
        "        bookindex_to_test_simple = random_book_in_sample['bookIndex']\n",
        "        title_to_test_simple = random_book_in_sample['Book Name']\n",
        "\n",
        "        print(f\"\\nMeminta rekomendasi untuk buku (dari sampel):\")\n",
        "        print(f\"Book Index: {bookindex_to_test_simple}\")\n",
        "        print(f\"Judul: '{title_to_test_simple}'\")\n",
        "\n",
        "        # Dapatkan rekomendasi menggunakan fungsi yang sudah ada\n",
        "        recommendations_simple = get_content_based_recommendations_sample(bookindex_to_test_simple, N=5)\n",
        "\n",
        "        # Tampilkan hasil rekomendasi\n",
        "        if isinstance(recommendations_simple, pd.DataFrame):\n",
        "            print(\"\\nRekomendasi Teratas:\")\n",
        "            print(recommendations_simple)\n",
        "        else:\n",
        "            # Menangani kasus jika bookIndex tidak ditemukan di sampel\n",
        "            print(recommendations_simple)\n",
        "\n",
        "    except Exception as e:\n",
        "        print(f\"Terjadi error saat mencoba mendapatkan rekomendasi untuk sampel acak: {e}\")\n",
        "\n",
        "else:\n",
        "    print(\"Dataframe sample (books_cb_sample) kosong, tidak bisa melakukan evaluasi sederhana.\")"
      ],
      "metadata": {
        "id": "KLWGJNxaDKWB",
        "colab": {
          "base_uri": "https://localhost:8080/"
        },
        "outputId": "4d3157de-9ef5-448e-eff4-5b05903f9a15"
      },
      "execution_count": 18,
      "outputs": [
        {
          "output_type": "stream",
          "name": "stdout",
          "text": [
            "\n",
            "Evaluasi Content-Based Filtering\n",
            "\n",
            "Meminta rekomendasi untuk buku (dari sampel):\n",
            "Book Index: 1638\n",
            "Judul: 'Glassheart'\n",
            "\n",
            "Rekomendasi Teratas:\n",
            "      bookIndex                                          Book Name  \\\n",
            "2020       2021                      Majesty (American Royals, #2)   \n",
            "1698       1699  Katharine Parr, the Sixth Wife (Six Tudor Quee...   \n",
            "0             1                  The Invisible Life of Addie LaRue   \n",
            "1             2  The House in the Cerulean Sea (Cerulean Chroni...   \n",
            "2             3                                  Project Hail Mary   \n",
            "\n",
            "               Author  similarity_score  \n",
            "2020  Katharine McGee          0.136359  \n",
            "1698      Alison Weir          0.104207  \n",
            "0     Victoria Schwab          0.000000  \n",
            "1          T.J. Klune          0.000000  \n",
            "2           Andy Weir          0.000000  \n"
          ]
        }
      ]
    },
    {
      "cell_type": "markdown",
      "source": [
        "- Menyajikan evaluasi dari sistem content-based filtering yang sederhana, di mana sistem memberikan rekomendasi buku berdasarkan kesamaan konten dengan buku input \"Glassheart\".\n",
        "- Hasilnya menampilkan daftar buku yang direkomendasikan beserta skor kesamaan mereka.\n",
        "- Beberapa judul yang direkomendasikan seperti \"Majesty (American Royals, #2)\" dan \"The Invisible Life of Addie LaRue\" terlihat terkait skor kesamaan yang relatif rendah (di bawah 0.2) untuk sebagian besar rekomendasi menunjukkan bahwa metode analisis konten atau perhitungan kesamaan yang digunakan mungkin perlu ditingkatkan untuk menghasilkan rekomendasi yang lebih relevan atau serupa secara kuat."
      ],
      "metadata": {
        "id": "4WqX1yia467Z"
      }
    },
    {
      "cell_type": "code",
      "source": [
        "import numpy as np\n",
        "from sklearn.metrics import ndcg_score\n",
        "\n",
        "def precision_at_k(y_true, y_pred, k):\n",
        "    precision_scores = []\n",
        "    for true, pred in zip(y_true, y_pred):\n",
        "        pred_k = pred[:k]\n",
        "        true_set = set(true)\n",
        "        hit = sum(1 for item in pred_k if item in true_set)\n",
        "        precision_scores.append(hit / k)\n",
        "    return np.mean(precision_scores)\n",
        "\n",
        "def recall_at_k(y_true, y_pred, k):\n",
        "    recall_scores = []\n",
        "    for true, pred in zip(y_true, y_pred):\n",
        "        pred_k = pred[:k]\n",
        "        true_set = set(true)\n",
        "        hit = sum(1 for item in pred_k if item in true_set)\n",
        "        recall_scores.append(hit / len(true_set) if true_set else 0)\n",
        "    return np.mean(recall_scores)\n",
        "\n",
        "def ndcg_at_k(y_true, y_pred, k):\n",
        "    ndcg_scores = []\n",
        "    for true, pred in zip(y_true, y_pred):\n",
        "        pred_k = pred[:k]\n",
        "        true_binary = [1 if item in true else 0 for item in pred_k]\n",
        "        ndcg_scores.append(ndcg_score([true_binary], [true_binary]))\n",
        "    return np.mean(ndcg_scores)"
      ],
      "metadata": {
        "id": "R7ElgaTcvYOT"
      },
      "execution_count": null,
      "outputs": []
    },
    {
      "cell_type": "code",
      "source": [
        "# Ground truth dan prediksi dalam bentuk list of lists\n",
        "y_true = [['book_1', 'book_2'], ['book_3'], ['book_4', 'book_5']]\n",
        "y_pred = [['book_2', 'book_3', 'book_1'], ['book_3', 'book_6'], ['book_6', 'book_4']]\n",
        "\n",
        "k = 2\n",
        "print(\"Precision@K:\", precision_at_k(y_true, y_pred, k))\n",
        "print(\"Recall@K:\", recall_at_k(y_true, y_pred, k))\n",
        "print(\"NDCG@K:\", ndcg_at_k(y_true, y_pred, k))"
      ],
      "metadata": {
        "id": "v5cU37uavcS4"
      },
      "execution_count": null,
      "outputs": []
    },
    {
      "cell_type": "markdown",
      "source": [
        "## Evaluation Collaborative Filtering"
      ],
      "metadata": {
        "id": "zB1p9LOVEXtq"
      }
    },
    {
      "cell_type": "code",
      "source": [
        "# Hasil evaluasi SVD sudah dicetak sebelumnya saat training\n",
        "if 'rmse_svd' in globals() and 'mae_svd' in globals():\n",
        "    print(\"\\nMetriks Evaluasi untuk Collaborative Filtering (SVD)\")\n",
        "    print(f\"SVD Model - RMSE: {rmse_svd:.4f}\")\n",
        "    print(f\"SVD Model - MAE: {mae_svd:.4f}\")\n",
        "    print(\"\\nInterpretasi:\")\n",
        "    print(f\"RMSE sebesar {rmse_svd:.4f} menunjukkan bahwa rata-rata, prediksi rating model SVD kita menyimpang sekitar {rmse_svd:.4f} poin rating dari rating sebenarnya, dengan kesalahan yang lebih besar diberi bobot lebih.\")\n",
        "    print(f\"MAE sebesar {mae_svd:.4f} menunjukkan bahwa rata-rata, prediksi rating model SVD kita menyimpang sekitar {mae_svd:.4f} poin rating dari rating sebenarnya.\")\n",
        "    print(\"Nilai ini perlu dipertimbangkan dalam konteks skala rating (1-5). Semakin rendah, semakin baik performa model dalam memprediksi rating.\")\n",
        "else:\n",
        "    print(\"\\nMelewati evaluasi CF dengan SVD model hasilnya tidak ada (seperti jika kolom filtered_ratings_cf kosong).\")"
      ],
      "metadata": {
        "id": "Y_WUdtq7DJ7p",
        "colab": {
          "base_uri": "https://localhost:8080/"
        },
        "outputId": "9a38f998-1b89-48ab-ea6d-e0516544791e"
      },
      "execution_count": 19,
      "outputs": [
        {
          "output_type": "stream",
          "name": "stdout",
          "text": [
            "\n",
            "Metriks Evaluasi untuk Collaborative Filtering (SVD)\n",
            "SVD Model - RMSE: 1.4591\n",
            "SVD Model - MAE: 1.2594\n",
            "\n",
            "Interpretasi:\n",
            "RMSE sebesar 1.4591 menunjukkan bahwa rata-rata, prediksi rating model SVD kita menyimpang sekitar 1.4591 poin rating dari rating sebenarnya, dengan kesalahan yang lebih besar diberi bobot lebih.\n",
            "MAE sebesar 1.2594 menunjukkan bahwa rata-rata, prediksi rating model SVD kita menyimpang sekitar 1.2594 poin rating dari rating sebenarnya.\n",
            "Nilai ini perlu dipertimbangkan dalam konteks skala rating (1-5). Semakin rendah, semakin baik performa model dalam memprediksi rating.\n"
          ]
        }
      ]
    },
    {
      "cell_type": "markdown",
      "source": [
        "- Metrik evaluasi untuk model Collaborative Filtering menggunakan metode SVD, dengan nilai RMSE sebesar 1.4591 dan MAE sebesar 1.2594.\n",
        "- Nilai-nilai ini mengindikasikan performa model dalam memprediksi rating pengguna; secara rata-rata, prediksi rating model SVD menyimpang sekitar 1.4591 poin dari rating sebenarnya (dengan penalti lebih besar untuk kesalahan besar) dan memiliki rata-rata selisih absolut 1.2594 poin dari rating sebenarnya.\n",
        "- Dalam konteks skala rating 1-5, semakin rendah nilai RMSE dan MAE, semakin baik kemampuan model dalam memprediksi rating, sehingga nilai-nilai ini memberikan gambaran kuantitatif tentang akurasi rekomendasi yang dihasilkan oleh model SVD ini."
      ],
      "metadata": {
        "id": "Sk5vYvOu5dS-"
      }
    },
    {
      "cell_type": "code",
      "source": [],
      "metadata": {
        "id": "G1x_pUVM5U_h"
      },
      "execution_count": 19,
      "outputs": []
    }
  ]
}